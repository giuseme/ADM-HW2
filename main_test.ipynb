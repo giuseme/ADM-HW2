{
 "cells": [
  {
   "cell_type": "markdown",
   "metadata": {},
   "source": [
    "---\n",
    "# Homework 2 - eCommerce analytics\n",
    "---"
   ]
  },
  {
   "cell_type": "markdown",
   "metadata": {},
   "source": [
    "## Setup"
   ]
  },
  {
   "cell_type": "markdown",
   "metadata": {},
   "source": [
    "First, we import the libraries needed for the data analysis. "
   ]
  },
  {
   "cell_type": "code",
   "execution_count": 1,
   "metadata": {},
   "outputs": [],
   "source": [
    "# utilities libraries \n",
    "import os, glob\n",
    "\n",
    "import pandas as pd\n",
    "import numpy as np\n",
    "from matplotlib import pyplot as plt"
   ]
  },
  {
   "cell_type": "markdown",
   "metadata": {},
   "source": [
    "Then, we load the dataset files into one DataFrame."
   ]
  },
  {
   "cell_type": "code",
   "execution_count": 2,
   "metadata": {},
   "outputs": [],
   "source": [
    "path = './data'\n",
    "files = glob.glob(os.path.join(path, '*.csv'))\n",
    "nrows = 2000000\n",
    "\n",
    "dataset = pd.concat((pd.read_csv(f, header='infer', \n",
    "                                 parse_dates=['event_time'], \n",
    "                                 date_parser=pd.to_datetime,\n",
    "                                 nrows=nrows)\n",
    "                     for f in files), ignore_index=True)"
   ]
  },
  {
   "cell_type": "markdown",
   "metadata": {},
   "source": [
    "We can see some informations about the dataset using the function info()."
   ]
  },
  {
   "cell_type": "code",
   "execution_count": 106,
   "metadata": {},
   "outputs": [
    {
     "name": "stdout",
     "output_type": "stream",
     "text": [
      "<class 'pandas.core.frame.DataFrame'>\n",
      "RangeIndex: 4000000 entries, 0 to 3999999\n",
      "Data columns (total 9 columns):\n",
      " #   Column         Dtype              \n",
      "---  ------         -----              \n",
      " 0   event_time     datetime64[ns, UTC]\n",
      " 1   event_type     object             \n",
      " 2   product_id     int64              \n",
      " 3   category_id    int64              \n",
      " 4   category_code  object             \n",
      " 5   brand          object             \n",
      " 6   price          float64            \n",
      " 7   user_id        int64              \n",
      " 8   user_session   object             \n",
      "dtypes: datetime64[ns, UTC](1), float64(1), int64(3), object(4)\n",
      "memory usage: 274.7+ MB\n"
     ]
    }
   ],
   "source": [
    "dataset.info()"
   ]
  },
  {
   "cell_type": "code",
   "execution_count": 107,
   "metadata": {},
   "outputs": [
    {
     "data": {
      "text/plain": [
       "array(['view', 'cart', 'purchase'], dtype=object)"
      ]
     },
     "execution_count": 107,
     "metadata": {},
     "output_type": "execute_result"
    }
   ],
   "source": [
    "dataset.event_type.unique()"
   ]
  },
  {
   "cell_type": "markdown",
   "metadata": {},
   "source": [
    "---\n",
    "# [RQ1]  Which is the rate of complete funnels? (dynamic)"
   ]
  },
  {
   "cell_type": "code",
   "execution_count": 145,
   "metadata": {},
   "outputs": [],
   "source": [
    "view_op = dataset[dataset.event_type == 'view'][['user_session', 'product_id', 'event_type']]"
   ]
  },
  {
   "cell_type": "code",
   "execution_count": 146,
   "metadata": {},
   "outputs": [],
   "source": [
    "cart_op = dataset[dataset.event_type == 'cart'][['user_session', 'product_id', 'event_type']]"
   ]
  },
  {
   "cell_type": "code",
   "execution_count": 147,
   "metadata": {},
   "outputs": [],
   "source": [
    "purchase = dataset[dataset.event_type == 'purchase'][['user_session', 'product_id', 'event_type']]"
   ]
  },
  {
   "cell_type": "code",
   "execution_count": 149,
   "metadata": {},
   "outputs": [],
   "source": [
    "views_cart = view_op.merge(cart_op, on=['user_session', 'product_id'], how='left', suffixes=['_v', '_c'], indicator=True)\n",
    "orphan_views = views_cart[views_cart._merge == 'left_only']\n",
    "views_cart_purchase = views_cart[views_cart._merge == 'both'][['user_session', 'product_id', 'event_type_v', 'event_type_c']].merge(purchase, on=['user_session', 'product_id'], how='left', indicator=True)\n",
    "orphan_cart = views_cart_purchase[views_cart_purchase._merge == 'left_only']"
   ]
  },
  {
   "cell_type": "code",
   "execution_count": 153,
   "metadata": {},
   "outputs": [],
   "source": [
    "complete_funnels_rate = views_cart_purchase.size / (orphan_views.size + orphan_cart.size + views_cart_purchase.size)"
   ]
  },
  {
   "cell_type": "code",
   "execution_count": 154,
   "metadata": {},
   "outputs": [
    {
     "data": {
      "text/plain": [
       "0.06410128857028621"
      ]
     },
     "execution_count": 154,
     "metadata": {},
     "output_type": "execute_result"
    }
   ],
   "source": [
    "complete_funnels_rate"
   ]
  },
  {
   "cell_type": "markdown",
   "metadata": {},
   "source": [
    "The rate of complete funnels is equal to **6.4%**."
   ]
  },
  {
   "cell_type": "markdown",
   "metadata": {},
   "source": [
    "### What’s the operation users repeat more on average within a session? (dynamic)"
   ]
  },
  {
   "cell_type": "markdown",
   "metadata": {},
   "source": [
    "In order to get, for each session and event (view, cart, purchase), the average number of operations performed by users, we have to goup the tuples of our dataset by `user_session` and `event_type`. This way, we can count how many times a user performs each operation within a session."
   ]
  },
  {
   "cell_type": "code",
   "execution_count": 71,
   "metadata": {},
   "outputs": [],
   "source": [
    "count_event = dataset.groupby(['user_session', 'event_type']).event_type.count()"
   ]
  },
  {
   "cell_type": "markdown",
   "metadata": {},
   "source": [
    "Now, we group by `event_type` again and we perform the mean, getting the average number of times users perform each operation, as shown by the result below "
   ]
  },
  {
   "cell_type": "code",
   "execution_count": 72,
   "metadata": {},
   "outputs": [
    {
     "data": {
      "text/plain": [
       "event_type\n",
       "cart        1.606636\n",
       "purchase    1.170691\n",
       "view        4.317861\n",
       "Name: event_type, dtype: float64"
      ]
     },
     "execution_count": 72,
     "metadata": {},
     "output_type": "execute_result"
    }
   ],
   "source": [
    "count_event = count_event.groupby('event_type').mean()\n",
    "count_event"
   ]
  },
  {
   "cell_type": "markdown",
   "metadata": {},
   "source": [
    "We can observe that the operation that a user, on average, performs the most is the **view operation**. Now, we can plot the results to visualize them better."
   ]
  },
  {
   "cell_type": "code",
   "execution_count": 73,
   "metadata": {},
   "outputs": [
    {
     "data": {
      "text/plain": [
       "<matplotlib.axes._subplots.AxesSubplot at 0x7f4193d63b50>"
      ]
     },
     "execution_count": 73,
     "metadata": {},
     "output_type": "execute_result"
    },
    {
     "data": {
      "image/png": "[encoded data removed]",
      "text/plain": [
       "<Figure size 432x288 with 1 Axes>"
      ]
     },
     "metadata": {
      "needs_background": "light"
     },
     "output_type": "display_data"
    }
   ],
   "source": [
    "count_event.plot.bar()"
   ]
  },
  {
   "cell_type": "code",
   "execution_count": 74,
   "metadata": {},
   "outputs": [],
   "source": [
    "del count_event"
   ]
  },
  {
   "cell_type": "markdown",
   "metadata": {},
   "source": [
    "### How many times, on average, a user views a product before adding it to the cart? (dynamic)"
   ]
  },
  {
   "cell_type": "markdown",
   "metadata": {},
   "source": [
    "To solve this task, the idea is to group the dataset's tuples by the user and the product and to count all the views that have a date (`event_time`) less than the one of cart's events.\n",
    "First of all, we select all the tuples in our dataset that have `event_type` attribute equal to *cart*, doing the same for `event_type` equal to *view*. "
   ]
  },
  {
   "cell_type": "code",
   "execution_count": 62,
   "metadata": {},
   "outputs": [],
   "source": [
    "cart_op = dataset[dataset.event_type == 'cart'][['user_id', 'product_id', 'event_type', 'event_time']]"
   ]
  },
  {
   "cell_type": "code",
   "execution_count": 63,
   "metadata": {},
   "outputs": [],
   "source": [
    "view_op = dataset[dataset.event_type == 'view'][['user_id', 'product_id', 'event_type', 'event_time']]"
   ]
  },
  {
   "cell_type": "markdown",
   "metadata": {},
   "source": [
    "This way, we are able to join `cart_op` and `view_op` on `user_id` and `product_id`."
   ]
  },
  {
   "cell_type": "code",
   "execution_count": 66,
   "metadata": {},
   "outputs": [],
   "source": [
    "joined = view_op.merge(cart_op, on=['user_id', 'product_id'], suffixes=['_view', '_cart'])"
   ]
  },
  {
   "cell_type": "markdown",
   "metadata": {},
   "source": [
    "Once we have obtained tuples with the following attributes\n",
    "\n",
    "```event_time_view, event_type_view, user_id, product_id, event_time_cart, event_type_cart```,\n",
    "\n",
    "we can select only those which have `event_time_view` less than `event_time_cart`."
   ]
  },
  {
   "cell_type": "code",
   "execution_count": 67,
   "metadata": {},
   "outputs": [],
   "source": [
    "joined = joined[joined.event_time_view < joined.event_time_cart]"
   ]
  },
  {
   "cell_type": "markdown",
   "metadata": {},
   "source": [
    "Grouping by `user_id` and `product_id` and counting the tuples, we get the mean, which is the the answer to this task."
   ]
  },
  {
   "cell_type": "code",
   "execution_count": 69,
   "metadata": {},
   "outputs": [
    {
     "data": {
      "text/plain": [
       "4.643971505946073"
      ]
     },
     "execution_count": 69,
     "metadata": {},
     "output_type": "execute_result"
    }
   ],
   "source": [
    "joined.groupby(['user_id', 'product_id']).event_time_view.count().mean()"
   ]
  },
  {
   "cell_type": "markdown",
   "metadata": {},
   "source": [
    "On average, a user views a product **~4.644 times** before adding it to the cart. This means that, on average, users may evaluate the product of interest many times before deciding to purchase it."
   ]
  },
  {
   "cell_type": "code",
   "execution_count": 75,
   "metadata": {},
   "outputs": [],
   "source": [
    "del cart_op, view_op, joined"
   ]
  },
  {
   "cell_type": "markdown",
   "metadata": {},
   "source": [
    "### What’s the probability that products added once to the cart are effectively bought? (dynamic)"
   ]
  },
  {
   "cell_type": "markdown",
   "metadata": {},
   "source": [
    "To solve this task, we are asked for the probability of the event E such that\n",
    "\n",
    "    E = {\"a product added once to the cart is effectively bought\"}."
   ]
  },
  {
   "cell_type": "markdown",
   "metadata": {},
   "source": [
    "So, we select the rows that have `event_type` equal to *cart* or to *purchase*. Then, we perform a left join between the two sets. This way, we obtain a new set of tuples in which we have *cart-purchase* rows and rows which are not coming from the *purchase* set. "
   ]
  },
  {
   "cell_type": "code",
   "execution_count": 91,
   "metadata": {},
   "outputs": [],
   "source": [
    "cart_op = dataset[dataset.event_type == 'cart'][['user_session', 'product_id', 'event_type', 'event_time']]"
   ]
  },
  {
   "cell_type": "code",
   "execution_count": 92,
   "metadata": {},
   "outputs": [],
   "source": [
    "purchase_op = dataset[dataset.event_type == 'purchase'][['user_session', 'product_id', 'event_type', 'event_time']]"
   ]
  },
  {
   "cell_type": "code",
   "execution_count": 100,
   "metadata": {},
   "outputs": [],
   "source": [
    "joined = cart_op.merge(purchase_op.drop_duplicates(), on=['user_session', 'product_id'], how='left', indicator=True)"
   ]
  },
  {
   "cell_type": "markdown",
   "metadata": {},
   "source": [
    "Counting the *cart-purchase* rows and dividing by the total number of rows, we get the desired probability."
   ]
  },
  {
   "cell_type": "code",
   "execution_count": 101,
   "metadata": {},
   "outputs": [],
   "source": [
    "purchased = joined[joined._merge == 'both']"
   ]
  },
  {
   "cell_type": "code",
   "execution_count": 102,
   "metadata": {},
   "outputs": [
    {
     "data": {
      "text/plain": [
       "0.5925371723790323"
      ]
     },
     "execution_count": 102,
     "metadata": {},
     "output_type": "execute_result"
    }
   ],
   "source": [
    "purchased.size / joined.size"
   ]
  },
  {
   "cell_type": "markdown",
   "metadata": {},
   "source": [
    "The result shows that, once customers have added an item to the cart, they bought it with a probability of about 59%, that is, more than one over two makes a purchase."
   ]
  },
  {
   "cell_type": "code",
   "execution_count": 125,
   "metadata": {},
   "outputs": [],
   "source": [
    "del cart_op, purchase_op, joined, purchased"
   ]
  },
  {
   "cell_type": "markdown",
   "metadata": {},
   "source": [
    "### What’s the average time an item stays in the cart before being removed?"
   ]
  },
  {
   "cell_type": "markdown",
   "metadata": {},
   "source": [
    "Because there is no attribute *removefromcart*, to find the average time an item stays in the cart before being removed, we have to consider two cases: in the first, the item is removed from cart because it is bought; in the second, the item is removed from cart because the session expires."
   ]
  },
  {
   "cell_type": "code",
   "execution_count": 126,
   "metadata": {},
   "outputs": [],
   "source": [
    "cart_op = dataset[dataset.event_type == 'cart'][['user_id', 'user_session', 'product_id', 'event_type', 'event_time']]"
   ]
  },
  {
   "cell_type": "code",
   "execution_count": 131,
   "metadata": {},
   "outputs": [],
   "source": [
    "first_op_per_session = dataset.groupby(['user_id', 'user_session']).event_time.min()"
   ]
  },
  {
   "cell_type": "code",
   "execution_count": 132,
   "metadata": {},
   "outputs": [
    {
     "data": {
      "text/plain": [
       "user_id    user_session                        \n",
       "554748717  9333dfbd-b87a-4708-9857-6336556b0fcc   2019-10-01 00:00:00+00:00\n",
       "541312140  72d76fde-8bb3-4e00-8c23-a032dfed738c   2019-10-01 00:00:00+00:00\n",
       "519107250  566511c2-e2e3-422b-b695-cf8e6e792ca8   2019-10-01 00:00:01+00:00\n",
       "550050854  7c90fc70-0e80-4590-96f3-13c02c18c713   2019-10-01 00:00:01+00:00\n",
       "535871217  c6bd7419-2748-4c56-95b4-8cec9ff8b80d   2019-10-01 00:00:04+00:00\n",
       "Name: event_time, dtype: datetime64[ns, UTC]"
      ]
     },
     "execution_count": 132,
     "metadata": {},
     "output_type": "execute_result"
    }
   ],
   "source": [
    "first_op_per_session.head()"
   ]
  },
  {
   "cell_type": "markdown",
   "metadata": {},
   "source": [
    "### How much time passes on average between the first view time and a purchase/addition to cart?"
   ]
  },
  {
   "cell_type": "markdown",
   "metadata": {},
   "source": [
    "We get the first view time selecting only the rows with `event_type` equal to *view*, grouping by the `user_id` attribute and taking the minimum `event_time`, that is the minimum view date for each user. "
   ]
  },
  {
   "cell_type": "code",
   "execution_count": 134,
   "metadata": {},
   "outputs": [],
   "source": [
    "user_view = dataset[dataset.event_type == 'view'].groupby('user_id').event_time.min()"
   ]
  },
  {
   "cell_type": "markdown",
   "metadata": {},
   "source": [
    "We do the same with `event_type` equal to *cart* and *purchase*. As asked in the question, we considered *cart* and *purchase* together. "
   ]
  },
  {
   "cell_type": "code",
   "execution_count": 135,
   "metadata": {},
   "outputs": [],
   "source": [
    "user_purchase_cart = dataset[(dataset.event_type == 'cart') | (dataset.event_type == 'purchase')].groupby('user_id').event_time.min()"
   ]
  },
  {
   "cell_type": "markdown",
   "metadata": {},
   "source": [
    "Then, we perform a join on `user_id` between the two sets. The rows of the result that we obtain have the following format: \n",
    "\n",
    "    event_time_view | user_id | event_time_purchase_cart"
   ]
  },
  {
   "cell_type": "code",
   "execution_count": 137,
   "metadata": {},
   "outputs": [],
   "source": [
    "joined = user_view.to_frame().merge(user_purchase_cart.to_frame(), on='user_id', suffixes=['_view', '_purchase_cart'])"
   ]
  },
  {
   "cell_type": "markdown",
   "metadata": {},
   "source": [
    "Finally, we can compute the difference between `event_time_purchase_cart` and `event_time_view` and we get the average interval of time."
   ]
  },
  {
   "cell_type": "code",
   "execution_count": 141,
   "metadata": {},
   "outputs": [],
   "source": [
    "sum_deltas = 0\n",
    "for t_view, t_purchase_cart in zip(joined['event_time_view'], joined['event_time_purchase_cart']):\n",
    "    sum_deltas += (t_purchase_cart - t_view).total_seconds()\n",
    "avg_time = (sum_deltas / joined.size) / 3600 # we convert the time from seconds to hours"
   ]
  },
  {
   "cell_type": "code",
   "execution_count": 142,
   "metadata": {},
   "outputs": [
    {
     "data": {
      "text/plain": [
       "16.208909996121605"
      ]
     },
     "execution_count": 142,
     "metadata": {},
     "output_type": "execute_result"
    }
   ],
   "source": [
    "avg_time"
   ]
  },
  {
   "cell_type": "markdown",
   "metadata": {},
   "source": [
    "The average time that passes between the first view time and a purchase/addition to cart is equal to **about 16 hours and 12 minutes**."
   ]
  },
  {
   "cell_type": "code",
   "execution_count": 143,
   "metadata": {},
   "outputs": [],
   "source": [
    "del user_view, user_purchase_cart, joined"
   ]
  },
  {
   "cell_type": "markdown",
   "metadata": {},
   "source": [
    "# [RQ4] How much does each brand earn per month? (dynamic)"
   ]
  },
  {
   "cell_type": "code",
   "execution_count": 116,
   "metadata": {},
   "outputs": [],
   "source": [
    "def get_profit_per_month(brand_name):\n",
    "    #brand_name = brand_name.strip().lower()\n",
    "    brand_items = dataset[(dataset.event_type == 'purchase') & (dataset.brand == brand_name)]\n",
    "    if brand_items.empty:\n",
    "        return pd.DataFrame(data=[0,0], index=[10,11], columns=['profit']).rename_axis('event_time')\n",
    "    result = brand_items[(brand_items.price.notna()) & (brand_items.price.notnull())].groupby(brand_items.event_time.dt.month).agg(profit=('price', 'sum'))\n",
    "    if 10 not in result.index:\n",
    "        result = pd.concat([result, pd.DataFrame([0,], index=[10,])])\n",
    "    elif 11 not in result.index:\n",
    "        result = pd.concat([result, pd.DataFrame([0,], index=[11,])])\n",
    "    del brand_items\n",
    "    return result"
   ]
  },
  {
   "cell_type": "code",
   "execution_count": 113,
   "metadata": {},
   "outputs": [
    {
     "data": {
      "text/html": [
       "<div>\n",
       "<style scoped>\n",
       "    .dataframe tbody tr th:only-of-type {\n",
       "        vertical-align: middle;\n",
       "    }\n",
       "\n",
       "    .dataframe tbody tr th {\n",
       "        vertical-align: top;\n",
       "    }\n",
       "\n",
       "    .dataframe thead th {\n",
       "        text-align: right;\n",
       "    }\n",
       "</style>\n",
       "<table border=\"1\" class=\"dataframe\">\n",
       "  <thead>\n",
       "    <tr style=\"text-align: right;\">\n",
       "      <th></th>\n",
       "      <th>profit</th>\n",
       "    </tr>\n",
       "    <tr>\n",
       "      <th>event_time</th>\n",
       "      <th></th>\n",
       "    </tr>\n",
       "  </thead>\n",
       "  <tbody>\n",
       "    <tr>\n",
       "      <th>10</th>\n",
       "      <td>2200859.56</td>\n",
       "    </tr>\n",
       "    <tr>\n",
       "      <th>11</th>\n",
       "      <td>1971664.55</td>\n",
       "    </tr>\n",
       "  </tbody>\n",
       "</table>\n",
       "</div>"
      ],
      "text/plain": [
       "                profit\n",
       "event_time            \n",
       "10          2200859.56\n",
       "11          1971664.55"
      ]
     },
     "execution_count": 113,
     "metadata": {},
     "output_type": "execute_result"
    }
   ],
   "source": [
    "get_profit_per_month('samsung')"
   ]
  },
  {
   "cell_type": "markdown",
   "metadata": {},
   "source": [
    "### Is the average price of products of different brands significantly different? (dynamic)"
   ]
  },
  {
   "cell_type": "code",
   "execution_count": 38,
   "metadata": {},
   "outputs": [
    {
     "data": {
      "text/plain": [
       "3130"
      ]
     },
     "execution_count": 38,
     "metadata": {},
     "output_type": "execute_result"
    }
   ],
   "source": [
    "dataset[dataset.brand.notna()].brand.nunique()"
   ]
  },
  {
   "cell_type": "code",
   "execution_count": 5,
   "metadata": {},
   "outputs": [
    {
     "data": {
      "text/plain": [
       "268.9179481682003"
      ]
     },
     "execution_count": 5,
     "metadata": {},
     "output_type": "execute_result"
    }
   ],
   "source": [
    "dataset[['brand', 'product_id', 'price']].drop_duplicates().groupby(['brand']).price.mean().std()"
   ]
  },
  {
   "cell_type": "markdown",
   "metadata": {},
   "source": [
    "### Find the top 3 brands that have suffered the biggest losses in earnings between one month and the next (dynamic)"
   ]
  },
  {
   "cell_type": "code",
   "execution_count": 114,
   "metadata": {},
   "outputs": [],
   "source": [
    "brands = dataset['brand'].unique()"
   ]
  },
  {
   "cell_type": "code",
   "execution_count": 120,
   "metadata": {},
   "outputs": [
    {
     "name": "stderr",
     "output_type": "stream",
     "text": [
      "100%|██████████| 3131/3131 [24:43<00:00,  2.11it/s]\n"
     ]
    },
    {
     "data": {
      "text/plain": [
       "[('cordiant', 24268.590000000055),\n",
       " ('michelin', 9647.399999999992),\n",
       " ('yokohama', 8410.720000000005)]"
      ]
     },
     "execution_count": 120,
     "metadata": {},
     "output_type": "execute_result"
    }
   ],
   "source": [
    "from tqdm import tqdm\n",
    "\n",
    "diff_profit = dict.fromkeys(brands)\n",
    "october, november = (10, 11)\n",
    "for brand in tqdm(brands):\n",
    "    profit = get_profit_per_month(brand)\n",
    "    diff_profit[brand] = profit.at[november, 'profit'] - profit.at[october, 'profit']\n",
    "diff_profit_list = diff_profit.items() \n",
    "diff_profit_list = sorted(diff_profit_list, key=lambda x: x[1])\n",
    "diff_profit_list[:3]"
   ]
  },
  {
   "cell_type": "code",
   "execution_count": 121,
   "metadata": {},
   "outputs": [],
   "source": [
    "diff_profit = sorted(diff_profit_list, key=lambda x: x[1])"
   ]
  },
  {
   "cell_type": "code",
   "execution_count": 122,
   "metadata": {},
   "outputs": [],
   "source": [
    "diff_profit_list = sorted(diff_profit_list, key=lambda x: x[1])"
   ]
  },
  {
   "cell_type": "code",
   "execution_count": 123,
   "metadata": {},
   "outputs": [
    {
     "data": {
      "text/plain": [
       "[('apple', -723815.7300001327),\n",
       " ('samsung', -229195.01000013808),\n",
       " ('huawei', -86873.56000000137)]"
      ]
     },
     "execution_count": 123,
     "metadata": {},
     "output_type": "execute_result"
    }
   ],
   "source": [
    "diff_profit_list[:3]"
   ]
  },
  {
   "cell_type": "markdown",
   "metadata": {},
   "source": [
    "# [RQ7] Prove that the Pareto principle applies to your store"
   ]
  },
  {
   "cell_type": "code",
   "execution_count": 29,
   "metadata": {},
   "outputs": [],
   "source": [
    "paying_customers = dataset[dataset.event_type == 'purchase'].groupby('user_id').price.agg(amount='sum').sort_values(by='amount', ascending=False)"
   ]
  },
  {
   "cell_type": "code",
   "execution_count": 5,
   "metadata": {},
   "outputs": [],
   "source": [
    "n_customers = dataset.user_id.nunique()"
   ]
  },
  {
   "cell_type": "code",
   "execution_count": 6,
   "metadata": {},
   "outputs": [
    {
     "data": {
      "text/plain": [
       "563415"
      ]
     },
     "execution_count": 6,
     "metadata": {},
     "output_type": "execute_result"
    }
   ],
   "source": [
    "n_customers"
   ]
  },
  {
   "cell_type": "code",
   "execution_count": 31,
   "metadata": {},
   "outputs": [
    {
     "data": {
      "text/plain": [
       "20638999.2"
      ]
     },
     "execution_count": 31,
     "metadata": {},
     "output_type": "execute_result"
    }
   ],
   "source": [
    "business = paying_customers.amount.sum()\n",
    "business"
   ]
  },
  {
   "cell_type": "code",
   "execution_count": 32,
   "metadata": {},
   "outputs": [],
   "source": [
    "top_20_customers = paying_customers.head(int(0.2*n_customers)).amount.sum()"
   ]
  },
  {
   "cell_type": "code",
   "execution_count": 33,
   "metadata": {},
   "outputs": [
    {
     "data": {
      "text/plain": [
       "20638999.2"
      ]
     },
     "execution_count": 33,
     "metadata": {},
     "output_type": "execute_result"
    }
   ],
   "source": [
    "top_20_customers"
   ]
  },
  {
   "cell_type": "code",
   "execution_count": 13,
   "metadata": {},
   "outputs": [
    {
     "data": {
      "text/plain": [
       "20638999.2"
      ]
     },
     "execution_count": 13,
     "metadata": {},
     "output_type": "execute_result"
    }
   ],
   "source": [
    "business"
   ]
  },
  {
   "cell_type": "code",
   "execution_count": 14,
   "metadata": {},
   "outputs": [
    {
     "data": {
      "text/plain": [
       "45084"
      ]
     },
     "execution_count": 14,
     "metadata": {},
     "output_type": "execute_result"
    }
   ],
   "source": [
    "paying_customers.size"
   ]
  },
  {
   "cell_type": "code",
   "execution_count": 15,
   "metadata": {},
   "outputs": [
    {
     "data": {
      "text/plain": [
       "0.08001916881872155"
      ]
     },
     "execution_count": 15,
     "metadata": {},
     "output_type": "execute_result"
    }
   ],
   "source": [
    "45084/563415"
   ]
  },
  {
   "cell_type": "code",
   "execution_count": null,
   "metadata": {},
   "outputs": [],
   "source": []
  }
 ],
 "metadata": {
  "kernelspec": {
   "display_name": "Python 3",
   "language": "python",
   "name": "python3"
  },
  "language_info": {
   "codemirror_mode": {
    "name": "ipython",
    "version": 3
   },
   "file_extension": ".py",
   "mimetype": "text/x-python",
   "name": "python",
   "nbconvert_exporter": "python",
   "pygments_lexer": "ipython3",
   "version": "3.8.3"
  }
 },
 "nbformat": 4,
 "nbformat_minor": 4
}
