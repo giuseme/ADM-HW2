{
 "cells": [
  {
   "cell_type": "markdown",
   "metadata": {},
   "source": [
    "---\n",
    "# Homework 2 - eCommerce analytics\n",
    "---"
   ]
  },
  {
   "cell_type": "markdown",
   "metadata": {},
   "source": [
    "# Notes before starting"
   ]
  },
  {
   "cell_type": "markdown",
   "metadata": {},
   "source": [
    "We dealt with a huge amount of data from the files `2019-Oct.csv` and `2019-Nov.csv`. These files have a total size equal to 13,4GB. For all the questions, we reduced the amount of RAM required by loading only the needed columns and, since some columns data allows it, we forced some data casting to data types smaller in size. Specifically, for example, we loaded the `user_id` values as `numpy.int32` instead of default `numpy.int64`, since we observed that `user_id` values are of 10<sup>8</sup> order.\n",
    "\n",
    "Moreover, we tried to handle these data applying two different strategies. The first one was execute the fucntions in a AWS EC2 instance configured with the proper quantity of RAM. According to the second one, we implemented some functions chunking the dataset, computing by chunk and then combining the results. We are aware that this implementation adds a lot of overhead, but this way we managed to run these functions on a laptop with only 8GB of RAM. These functions are included in the file `./scripts/our_functions_low_memory` that we chose to use in this notebook. All the questions marked with a **\\*** were solved with such functions. For these questions, we also provide a file with a more computationally efficent implementation (see `./scripts/our_functions.py`)."
   ]
  },
  {
   "cell_type": "markdown",
   "metadata": {},
   "source": [
    "# Setup"
   ]
  },
  {
   "cell_type": "markdown",
   "metadata": {},
   "source": [
    "As previously mentioned, in order to keep the notebook tidy, for each question, we put the functions in the file `./scripts/our_functions_low_memory.py`."
   ]
  },
  {
   "cell_type": "code",
   "execution_count": null,
   "metadata": {},
   "outputs": [],
   "source": [
    "import scripts.our_functions_low_memory as f"
   ]
  },
  {
   "cell_type": "markdown",
   "metadata": {},
   "source": [
    "Specifically, the libraries we used are the following:"
   ]
  },
  {
   "cell_type": "markdown",
   "metadata": {},
   "source": [
    "```python\n",
    "# for data handling and analysis\n",
    "import pandas as pd\n",
    "import numpy as np\n",
    "from matplotlib import pyplot as plt \n",
    "import datetime\n",
    "\n",
    "# utilies for computational performance evaluation and debugging\n",
    "from tqdm import tqdm\n",
    "from threading import Thread\n",
    "from queue import Queue\n",
    "import os, glob\n",
    "```"
   ]
  },
  {
   "cell_type": "markdown",
   "metadata": {},
   "source": [
    "To have an insight into the data handling, we show the routine function to load the needed data for each question: "
   ]
  },
  {
   "cell_type": "markdown",
   "metadata": {},
   "source": [
    "```python\n",
    "def get_needed_iterator(month_files:list, columns:list, chunksize:int=10**6, parse_dates=False):\n",
    "    global DATA_PATH, dtype\n",
    "    iterators = []\n",
    "    date_parser = pd.to_datetime if parse_dates else None\n",
    "    for month in month_files:\n",
    "        iterators.append(pd.read_csv(os.path.join(DATA_PATH, month), usecols=columns, \n",
    "                                     parse_dates=parse_dates, date_parser=date_parser, \n",
    "                                     chunksize=chunksize, dtype=dtype))\n",
    "    return iterators\n",
    "```"
   ]
  },
  {
   "cell_type": "markdown",
   "metadata": {},
   "source": [
    "According to the pandas API, we split the dataset into chunks of 10<sup>6</sup> rows and we obtain an iterator. Using this iterator properly, we get all the data required for each question."
   ]
  },
  {
   "cell_type": "markdown",
   "metadata": {},
   "source": [
    "---\n",
    "# [RQ1]*  Which is the rate of complete funnels?"
   ]
  },
  {
   "cell_type": "markdown",
   "metadata": {},
   "source": [
    "According to "
   ]
  }
 ],
 "metadata": {
  "kernelspec": {
   "display_name": "Python 3",
   "language": "python",
   "name": "python3"
  },
  "language_info": {
   "codemirror_mode": {
    "name": "ipython",
    "version": 3
   },
   "file_extension": ".py",
   "mimetype": "text/x-python",
   "name": "python",
   "nbconvert_exporter": "python",
   "pygments_lexer": "ipython3",
   "version": "3.8.3"
  }
 },
 "nbformat": 4,
 "nbformat_minor": 4
}
